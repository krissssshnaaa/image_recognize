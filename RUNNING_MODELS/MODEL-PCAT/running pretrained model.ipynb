{
 "cells": [
  {
   "cell_type": "code",
   "execution_count": 5,
   "id": "728db9b5-a4c5-478b-8fbc-accdc45fd689",
   "metadata": {},
   "outputs": [
    {
     "data": {
      "text/plain": [
       "'/home/manas/Desktop/PROJECTS/IMAGE_CAPTIONING/RUNNING_MODELS/MODEL-PCAT'"
      ]
     },
     "execution_count": 5,
     "metadata": {},
     "output_type": "execute_result"
    }
   ],
   "source": [
    "pwd"
   ]
  },
  {
   "cell_type": "code",
   "execution_count": 7,
   "id": "6478c1ad-4fa2-40ab-9228-31035cfd894a",
   "metadata": {},
   "outputs": [
    {
     "name": "stdout",
     "output_type": "stream",
     "text": [
      "/home/manas/Desktop/PROJECTS/IMAGE_CAPTIONING/RUNNING_MODELS/MODEL-PCAT\n"
     ]
    }
   ],
   "source": [
    "cd MODEL-PCAT"
   ]
  },
  {
   "cell_type": "code",
   "execution_count": 1,
   "id": "643669dc-9e68-425b-9737-350b5366a38a",
   "metadata": {},
   "outputs": [
    {
     "name": "stderr",
     "output_type": "stream",
     "text": [
      "2024-10-04 00:06:07.071889: E external/local_xla/xla/stream_executor/cuda/cuda_fft.cc:485] Unable to register cuFFT factory: Attempting to register factory for plugin cuFFT when one has already been registered\n",
      "2024-10-04 00:06:07.102866: E external/local_xla/xla/stream_executor/cuda/cuda_dnn.cc:8454] Unable to register cuDNN factory: Attempting to register factory for plugin cuDNN when one has already been registered\n",
      "2024-10-04 00:06:07.112265: E external/local_xla/xla/stream_executor/cuda/cuda_blas.cc:1452] Unable to register cuBLAS factory: Attempting to register factory for plugin cuBLAS when one has already been registered\n",
      "2024-10-04 00:06:07.134226: I tensorflow/core/platform/cpu_feature_guard.cc:210] This TensorFlow binary is optimized to use available CPU instructions in performance-critical operations.\n",
      "To enable the following instructions: AVX2 FMA, in other operations, rebuild TensorFlow with the appropriate compiler flags.\n",
      "2024-10-04 00:06:08.637461: W tensorflow/compiler/tf2tensorrt/utils/py_utils.cc:38] TF-TRT Warning: Could not find TensorRT\n",
      "/home/manas/my-jupyter-env/lib/python3.12/site-packages/keras/src/saving/saving_lib.py:713: UserWarning: Skipping variable loading for optimizer 'rmsprop', because it has 12 variables whereas the saved optimizer has 2 variables. \n",
      "  saveable.load_own_variables(weights_store.get(inner_path))\n"
     ]
    }
   ],
   "source": [
    "# !pip install tensorflow\n",
    "import numpy as np\n",
    "import pickle\n",
    "from keras.models import load_model\n",
    "from keras.preprocessing.sequence import pad_sequences\n",
    "from keras.preprocessing.image import load_img, img_to_array\n",
    "from keras.applications.inception_v3 import InceptionV3, preprocess_input\n",
    "import matplotlib.pyplot as plt\n",
    "\n",
    "MODEL_PATH = './my_model.keras'  \n",
    "WORDTOIX_PATH = './wordtoix.pkl'  \n",
    "IXTOWORD_PATH = './ixtoword.pkl'   \n",
    "MAX_LENGTH = 34  #USE WHAT WAS USED DURING TRAINING\n",
    "\n",
    "model = load_model(MODEL_PATH)\n",
    "\n",
    "with open(WORDTOIX_PATH, 'rb') as f:\n",
    "    wordtoix = pickle.load(f)\n",
    "\n",
    "with open(IXTOWORD_PATH, 'rb') as f:\n",
    "    ixtoword = pickle.load(f)\n",
    "\n",
    "inception_model = InceptionV3(weights='imagenet', include_top=False, pooling='avg')\n",
    "\n",
    "def preprocess_img(img_path):\n",
    "    img = load_img(img_path, target_size=(299, 299))\n",
    "    x = img_to_array(img)\n",
    "    x = np.expand_dims(x, axis=0)\n",
    "    x = preprocess_input(x)\n",
    "    return x\n",
    "\n",
    "def extract_features(photo):\n",
    "    feature_vector = inception_model.predict(photo)\n",
    "    return np.reshape(feature_vector, (1, feature_vector.shape[1]))\n",
    "\n",
    "def greedy_search(features):\n",
    "    start_seq = 'startseq'\n",
    "    for _ in range(MAX_LENGTH):\n",
    "        seq = [wordtoix[word] for word in start_seq.split() if word in wordtoix]\n",
    "        seq = pad_sequences([seq], maxlen=MAX_LENGTH)\n",
    "        yhat = model.predict([features, seq], verbose=0)\n",
    "        yhat = np.argmax(yhat)\n",
    "        word = ixtoword[yhat]\n",
    "        start_seq += ' ' + word\n",
    "        if word == 'endseq':\n",
    "            break\n",
    "    return ' '.join(start_seq.split()[1:-1])\n",
    "\n",
    "def generate_caption(image_path):\n",
    "    photo = preprocess_img(image_path)\n",
    "    features = extract_features(photo)\n",
    "    caption = greedy_search(features)\n",
    "    img = plt.imread(image_path)\n",
    "    plt.imshow(img)\n",
    "    plt.axis('off')\n",
    "    plt.show()\n",
    "    print(\"Generated Caption: \", caption)\n"
   ]
  },
  {
   "cell_type": "code",
   "execution_count": null,
   "id": "9ad17d8c-44d2-4f0e-b742-4076893d1179",
   "metadata": {},
   "outputs": [
    {
     "name": "stdout",
     "output_type": "stream",
     "text": [
      "\u001b[1m1/1\u001b[0m \u001b[32m━━━━━━━━━━━━━━━━━━━━\u001b[0m\u001b[37m\u001b[0m \u001b[1m0s\u001b[0m 183ms/step\n"
     ]
    }
   ],
   "source": [
    "\n",
    "if __name__ == \"__main__\":\n",
    "    image_path = '../test_images/results330.png'  \n",
    "    #  31  32   35      16       13       7      8       \n",
    "    generate_caption(image_path)"
   ]
  },
  {
   "cell_type": "code",
   "execution_count": null,
   "id": "1202f8a3-d5ea-4ae5-81b3-790a41e33746",
   "metadata": {},
   "outputs": [],
   "source": []
  }
 ],
 "metadata": {
  "kernelspec": {
   "display_name": "Python 3 (ipykernel)",
   "language": "python",
   "name": "python3"
  },
  "language_info": {
   "codemirror_mode": {
    "name": "ipython",
    "version": 3
   },
   "file_extension": ".py",
   "mimetype": "text/x-python",
   "name": "python",
   "nbconvert_exporter": "python",
   "pygments_lexer": "ipython3",
   "version": "3.12.3"
  }
 },
 "nbformat": 4,
 "nbformat_minor": 5
}
